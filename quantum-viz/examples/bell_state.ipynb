{
 "cells": [
  {
   "cell_type": "markdown",
   "metadata": {},
   "source": [
    "# Display a circuit that produces a Bell state\n",
    "\n",
    "This sample visualizes the trace of a quantum program that prepares a Bell state.\n",
    "\n",
    "First, import the widget:"
   ]
  },
  {
   "cell_type": "code",
   "execution_count": 1,
   "id": "4f2b95b2",
   "metadata": {},
   "outputs": [],
   "source": [
    "from quantum_viz import Viewer"
   ]
  },
  {
   "cell_type": "markdown",
   "metadata": {},
   "source": [
    "The below cell creates a trace for a Bell circuit."
   ]
  },
  {
   "cell_type": "code",
   "execution_count": 2,
   "id": "855531c9",
   "metadata": {},
   "outputs": [],
   "source": [
    "bell = {\n",
    "    \"qubits\": [{ \"id\": 0 }, { \"id\": 1, \"numChildren\": 1 }],\n",
    "    \"operations\": [\n",
    "        {\n",
    "            \"gate\": 'H',\n",
    "            \"targets\": [{ \"qId\": 0 }],\n",
    "        },\n",
    "        {\n",
    "            \"gate\": 'X',\n",
    "            \"isControlled\": \"True\",\n",
    "            \"controls\": [{ \"qId\": 0 }],\n",
    "            \"targets\": [{ \"qId\": 1 }],\n",
    "        },\n",
    "        {\n",
    "            \"gate\": 'Measure',\n",
    "            \"isMeasurement\": \"True\",\n",
    "            \"controls\": [{ \"qId\": 1 }],\n",
    "            \"targets\": [{ \"type\": 1, \"qId\": 1, \"cId\": 0 }],\n",
    "        },\n",
    "    ],\n",
    "}"
   ]
  },
  {
   "cell_type": "markdown",
   "metadata": {},
   "source": [
    "Pass the `bell` circuit to initialize the `QViz` widget."
   ]
  },
  {
   "cell_type": "code",
   "execution_count": 3,
   "id": "83e909ad",
   "metadata": {},
   "outputs": [
    {
     "data": {
      "text/html": [
       "\n",
       "<script type=\"text/javascript\">\n",
       "require.config({\n",
       "    paths: {\n",
       "        qviz: 'https://unpkg.com/@microsoft/quantum-viz.js@1.0.2/dist/qviz.min'\n",
       "    }\n",
       "});\n",
       "require(['qviz'], function(qviz) {\n",
       "    function renderQuantumProgram(program) {\n",
       "        const targetDiv = document.getElementById('JSApp_7a8579422c8411ec9e545be2fb09fa6e');\n",
       "        if (targetDiv != null) {\n",
       "            qviz.draw(program, targetDiv, qviz.STYLES['Default']);\n",
       "        }\n",
       "    }\n",
       "    const data = {'qubits': [{'id': 0}, {'id': 1, 'numChildren': 1}], 'operations': [{'gate': 'H', 'targets': [{'qId': 0}]}, {'gate': 'X', 'isControlled': 'True', 'controls': [{'qId': 0}], 'targets': [{'qId': 1}]}, {'gate': 'Measure', 'isMeasurement': 'True', 'controls': [{'qId': 1}], 'targets': [{'type': 1, 'qId': 1, 'cId': 0}]}]};\n",
       "    renderQuantumProgram(data);\n",
       "});\n",
       "</script>\n",
       "<div id=\"JSApp_7a8579422c8411ec9e545be2fb09fa6e\"></div>\n",
       "<div id=\"msg\"></div>\n"
      ],
      "text/plain": [
       "<IPython.core.display.HTML object>"
      ]
     },
     "metadata": {},
     "output_type": "display_data"
    }
   ],
   "source": [
    "Viewer(bell)"
   ]
  },
  {
   "cell_type": "code",
   "execution_count": null,
   "id": "0bc8a627",
   "metadata": {},
   "outputs": [],
   "source": []
  }
 ],
 "metadata": {
  "kernelspec": {
   "display_name": "Python 3",
   "language": "python",
   "name": "python3"
  },
  "language_info": {
   "codemirror_mode": {
    "name": "ipython",
    "version": 3
   },
   "file_extension": ".py",
   "mimetype": "text/x-python",
   "name": "python",
   "nbconvert_exporter": "python",
   "pygments_lexer": "ipython3",
   "version": "3.7.6"
  }
 },
 "nbformat": 4,
 "nbformat_minor": 5
}
